{
 "cells": [
  {
   "cell_type": "markdown",
   "id": "228d6072",
   "metadata": {},
   "source": [
    "# Homework\n",
    "\n",
    "In this homework, we'll deploy the ride duration model in batch mode. Like in homework 1, we'll use the Yellow Taxi Trip Records dataset.\n",
    "\n",
    "You'll find the starter code in the homework directory."
   ]
  },
  {
   "cell_type": "markdown",
   "id": "3794d313",
   "metadata": {
    "vscode": {
     "languageId": "plaintext"
    }
   },
   "source": [
    "## Q1. Notebook\n",
    "\n",
    "We'll start with the same notebook we ended up with in homework 1. We cleaned it a little bit and kept only the scoring part. You can find the initial notebook here.\n",
    "\n",
    "Run this notebook for the March 2023 data.\n",
    "\n",
    "What's the standard deviation of the predicted duration for this dataset?"
   ]
  },
  {
   "cell_type": "code",
   "execution_count": 1,
   "id": "f092b944",
   "metadata": {},
   "outputs": [],
   "source": [
    "year = 2023\n",
    "month = 3"
   ]
  },
  {
   "cell_type": "code",
   "execution_count": 2,
   "id": "01b5d1a5",
   "metadata": {},
   "outputs": [
    {
     "name": "stderr",
     "output_type": "stream",
     "text": [
      "d:\\Universidad\\Cursos\\MLOps en Zoomcamp\\.venv\\lib\\site-packages\\sklearn\\base.py:380: InconsistentVersionWarning: Trying to unpickle estimator DictVectorizer from version 1.5.0 when using version 1.6.1. This might lead to breaking code or invalid results. Use at your own risk. For more info please refer to:\n",
      "https://scikit-learn.org/stable/model_persistence.html#security-maintainability-limitations\n",
      "  warnings.warn(\n",
      "d:\\Universidad\\Cursos\\MLOps en Zoomcamp\\.venv\\lib\\site-packages\\sklearn\\base.py:380: InconsistentVersionWarning: Trying to unpickle estimator LinearRegression from version 1.5.0 when using version 1.6.1. This might lead to breaking code or invalid results. Use at your own risk. For more info please refer to:\n",
      "https://scikit-learn.org/stable/model_persistence.html#security-maintainability-limitations\n",
      "  warnings.warn(\n"
     ]
    }
   ],
   "source": [
    "import pickle\n",
    "import pandas as pd\n",
    "\n",
    "with open('model.bin', 'rb') as f_in:\n",
    "    dv, model = pickle.load(f_in)\n",
    "\n",
    "categorical = ['PULocationID', 'DOLocationID']\n",
    "\n",
    "def read_data(filename):\n",
    "    df = pd.read_parquet(filename)\n",
    "    \n",
    "    df['duration'] = df.tpep_dropoff_datetime - df.tpep_pickup_datetime\n",
    "    df['duration'] = df.duration.dt.total_seconds() / 60\n",
    "\n",
    "    df = df[(df.duration >= 1) & (df.duration <= 60)].copy()\n",
    "\n",
    "    df[categorical] = df[categorical].fillna(-1).astype('int').astype('str')\n",
    "    \n",
    "    return df\n",
    "\n",
    "df = read_data(f'https://d37ci6vzurychx.cloudfront.net/trip-data/yellow_tripdata_{year:04d}-{month:02d}.parquet')\n",
    "\n",
    "dicts = df[categorical].to_dict(orient='records')\n",
    "X_val = dv.transform(dicts)\n",
    "y_pred = model.predict(X_val)"
   ]
  },
  {
   "cell_type": "code",
   "execution_count": 9,
   "id": "9f69c210",
   "metadata": {},
   "outputs": [
    {
     "data": {
      "text/plain": [
       "np.float64(6.247488852238703)"
      ]
     },
     "execution_count": 9,
     "metadata": {},
     "output_type": "execute_result"
    }
   ],
   "source": [
    "y_pred.std()"
   ]
  },
  {
   "cell_type": "markdown",
   "id": "ad473961",
   "metadata": {},
   "source": [
    "## Q2. Preparing the output\n",
    "\n",
    "Like in the course videos, we want to prepare the dataframe with the output.\n",
    "\n",
    "First, let's create an artificial ride_id column:"
   ]
  },
  {
   "cell_type": "code",
   "execution_count": 10,
   "id": "1924ec8c",
   "metadata": {},
   "outputs": [],
   "source": [
    "df['ride_id'] = f'{year:04d}/{month:02d}_' + df.index.astype('str')"
   ]
  },
  {
   "cell_type": "markdown",
   "id": "3794c6ed",
   "metadata": {},
   "source": [
    "Next, write the ride id and the predictions to a dataframe with results.\n",
    "\n",
    "Save it as parquet:"
   ]
  },
  {
   "cell_type": "code",
   "execution_count": 14,
   "id": "fdc34557",
   "metadata": {},
   "outputs": [],
   "source": [
    "df_result = pd.DataFrame()\n",
    "df_result['ride_id'] = df['ride_id']\n",
    "df_result['pred'] = y_pred"
   ]
  },
  {
   "cell_type": "code",
   "execution_count": 15,
   "id": "080e32d7",
   "metadata": {},
   "outputs": [],
   "source": [
    "output_file = f'predictions_{year:04d}_{month:02d}.parquet'"
   ]
  },
  {
   "cell_type": "code",
   "execution_count": 16,
   "id": "835930e0",
   "metadata": {},
   "outputs": [],
   "source": [
    "df_result.to_parquet(\n",
    "    output_file,\n",
    "    engine='pyarrow',\n",
    "    compression=None,\n",
    "    index=False\n",
    ")"
   ]
  },
  {
   "cell_type": "code",
   "execution_count": 19,
   "id": "0cf016cc",
   "metadata": {},
   "outputs": [
    {
     "name": "stdout",
     "output_type": "stream",
     "text": [
      "File size: 65.46 MB\n"
     ]
    }
   ],
   "source": [
    "import os\n",
    "\n",
    "file_size_bytes = os.path.getsize(output_file)\n",
    "file_size_mb = file_size_bytes / (1024 * 1024)\n",
    "\n",
    "print(f\"File size: {file_size_mb:.2f} MB\")"
   ]
  },
  {
   "cell_type": "markdown",
   "id": "70f6ae79",
   "metadata": {},
   "source": [
    "## Q3. Creating the scoring script\n",
    "\n",
    "Now let's turn the notebook into a script.\n",
    "\n",
    "Which command you need to execute for that?"
   ]
  },
  {
   "cell_type": "markdown",
   "id": "e4bd48e4",
   "metadata": {},
   "source": [
    "```jupyter nbconvert --to script homework.ipynb```"
   ]
  },
  {
   "cell_type": "markdown",
   "id": "5d20e507",
   "metadata": {},
   "source": [
    "## Q4. Virtual environment\n",
    "\n",
    "Now let's put everything into a virtual environment. We'll use pipenv for that.\n",
    "\n",
    "Install all the required libraries. Pay attention to the Scikit-Learn version: it should be the same as in the starter notebook.\n",
    "\n",
    "After installing the libraries, pipenv creates two files: Pipfile and Pipfile.lock. The Pipfile.lock file keeps the hashes of the dependencies we use for the virtual env.\n",
    "\n",
    "What's the first hash for the Scikit-Learn dependency?"
   ]
  },
  {
   "cell_type": "code",
   "execution_count": 20,
   "id": "aecff11f",
   "metadata": {},
   "outputs": [
    {
     "name": "stdout",
     "output_type": "stream",
     "text": [
      "Primer hash de scikit-learn:\n",
      "sha256:057b991ac64b3e75c9c04b5f9395eaf19a6179244c089afdebaad98264bff37c\n"
     ]
    }
   ],
   "source": [
    "import json\n",
    "\n",
    "# Cargar el archivo Pipfile.lock\n",
    "with open('Pipfile.lock') as f:\n",
    "    lock_data = json.load(f)\n",
    "\n",
    "# Buscar scikit-learn dentro de los paquetes default (o develop si lo instalaste con --dev)\n",
    "sklearn_info = lock_data['default']['scikit-learn']\n",
    "first_hash = sklearn_info['hashes'][0]\n",
    "\n",
    "print(\"Primer hash de scikit-learn:\")\n",
    "print(first_hash)"
   ]
  },
  {
   "cell_type": "markdown",
   "id": "27abf799",
   "metadata": {},
   "source": [
    "## Q5. Parametrize the script\n",
    "\n",
    "Let's now make the script configurable via CLI. We'll create two parameters: year and month.\n",
    "\n",
    "Run the script for April 2023.\n",
    "\n",
    "What's the mean predicted duration?"
   ]
  },
  {
   "cell_type": "code",
   "execution_count": 22,
   "id": "6680b700",
   "metadata": {},
   "outputs": [
    {
     "name": "stdout",
     "output_type": "stream",
     "text": [
      "Mean predicted duration: 14.29\n"
     ]
    }
   ],
   "source": [
    "!python homework.py 2023 4"
   ]
  },
  {
   "cell_type": "markdown",
   "id": "0269a4f9",
   "metadata": {},
   "source": [
    "## Q6. Docker container\n",
    "\n",
    "Finally, we'll package the script in the docker container. For that, you'll need to use a base image that we prepared.\n",
    "\n",
    "This is what the content of this image is:"
   ]
  },
  {
   "cell_type": "markdown",
   "id": "0317948f",
   "metadata": {},
   "source": [
    "```FROM python:3.10.13-slim```\n",
    "\n",
    "```WORKDIR /app```\n",
    "\n",
    "```COPY [ \"model2.bin\", \"model.bin\" ]```"
   ]
  },
  {
   "cell_type": "markdown",
   "id": "11337611",
   "metadata": {},
   "source": [
    "Note: you don't need to run it. We have already done it.\n",
    "\n",
    "It is pushed to agrigorev/zoomcamp-model:mlops-2024-3.10.13-slim, which you need to use as your base image.\n",
    "\n",
    "That is, your Dockerfile should start with:"
   ]
  },
  {
   "cell_type": "markdown",
   "id": "bd2f69d8",
   "metadata": {},
   "source": [
    "```FROM agrigorev/zoomcamp-model:mlops-2024-3.10.13-slim```\n",
    "\n",
    "/# do stuff here"
   ]
  },
  {
   "cell_type": "markdown",
   "id": "3e41955c",
   "metadata": {},
   "source": [
    "This image already has a pickle file with a dictionary vectorizer and a model. You will need to use them.\n",
    "\n",
    "Important: don't copy the model to the docker image. You will need to use the pickle file already in the image.\n",
    "\n",
    "Now run the script with docker. What's the mean predicted duration for May 2023?"
   ]
  }
 ],
 "metadata": {
  "kernelspec": {
   "display_name": ".venv",
   "language": "python",
   "name": "python3"
  },
  "language_info": {
   "codemirror_mode": {
    "name": "ipython",
    "version": 3
   },
   "file_extension": ".py",
   "mimetype": "text/x-python",
   "name": "python",
   "nbconvert_exporter": "python",
   "pygments_lexer": "ipython3",
   "version": "3.10.5"
  }
 },
 "nbformat": 4,
 "nbformat_minor": 5
}
