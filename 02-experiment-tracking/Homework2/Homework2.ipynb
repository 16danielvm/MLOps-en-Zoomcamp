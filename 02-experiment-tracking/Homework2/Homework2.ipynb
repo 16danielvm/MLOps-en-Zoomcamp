{
 "cells": [
  {
   "cell_type": "markdown",
   "id": "385ab747",
   "metadata": {},
   "source": [
    "# Homework"
   ]
  },
  {
   "cell_type": "markdown",
   "id": "0d0bad51",
   "metadata": {
    "vscode": {
     "languageId": "plaintext"
    }
   },
   "source": [
    "## Q1. Install MLflow\n",
    "\n",
    "To get started with MLflow you'll need to install the MLflow Python package.\n",
    "\n",
    "For this we recommend creating a separate Python environment, for example, you can use conda environments, and then install the package there with pip or conda.\n",
    "\n",
    "Once you installed the package, run the command mlflow --version and check the output.\n",
    "\n",
    "What's the version that you have?"
   ]
  },
  {
   "cell_type": "code",
   "execution_count": 1,
   "id": "92084f2a",
   "metadata": {},
   "outputs": [
    {
     "name": "stdout",
     "output_type": "stream",
     "text": [
      "mlflow, version 2.22.0\n"
     ]
    }
   ],
   "source": [
    "!mlflow --version"
   ]
  },
  {
   "cell_type": "markdown",
   "id": "6bb8b699",
   "metadata": {},
   "source": [
    "## Q2. Download and preprocess the data\n",
    "\n",
    "We'll use the Green Taxi Trip Records dataset to predict the duration of each trip.\n",
    "\n",
    "Download the data for January, February and March 2023 in parquet format from here.\n",
    "\n",
    "Use the script preprocess_data.py located in the folder homework to preprocess the data.\n",
    "\n",
    "The script will:\n",
    "\n",
    "    load the data from the folder <TAXI_DATA_FOLDER> (the folder where you have downloaded the data),\n",
    "    fit a DictVectorizer on the training set (January 2023 data),\n",
    "    save the preprocessed datasets and the DictVectorizer to disk.\n",
    "\n",
    "Your task is to download the datasets and then execute this command:"
   ]
  },
  {
   "cell_type": "code",
   "execution_count": 2,
   "id": "336e6663",
   "metadata": {},
   "outputs": [],
   "source": [
    "!python preprocess_data.py --raw_data_path data/ --dest_path ./output"
   ]
  },
  {
   "cell_type": "markdown",
   "id": "b7a3db75",
   "metadata": {},
   "source": [
    "4"
   ]
  },
  {
   "cell_type": "markdown",
   "id": "d38c9f75",
   "metadata": {},
   "source": [
    "## Q3. Train a model with autolog\n",
    "\n",
    "We will train a RandomForestRegressor (from Scikit-Learn) on the taxi dataset.\n",
    "\n",
    "We have prepared the training script train.py for this exercise, which can be also found in the folder homework.\n",
    "\n",
    "The script will:\n",
    "\n",
    "    load the datasets produced by the previous step,\n",
    "    train the model on the training set,\n",
    "    calculate the RMSE score on the validation set.\n",
    "\n",
    "Your task is to modify the script to enable autologging with MLflow, execute the script and then launch the MLflow UI to check that the experiment run was properly tracked.\n",
    "\n",
    "Tip 1: don't forget to wrap the training code with a with mlflow.start_run(): statement as we showed in the videos.\n",
    "\n",
    "Tip 2: don't modify the hyperparameters of the model to make sure that the training will finish quickly.\n",
    "\n",
    "What is the value of the min_samples_split parameter:"
   ]
  },
  {
   "cell_type": "code",
   "execution_count": 3,
   "id": "18ca252f",
   "metadata": {},
   "outputs": [],
   "source": [
    "!python train.py --data_path ./output"
   ]
  },
  {
   "attachments": {
    "image.png": {
     "image/png": "[encoded data removed]"
    }
   },
   "cell_type": "markdown",
   "id": "f9f34de3",
   "metadata": {},
   "source": [
    "![image.png](attachment:image.png)"
   ]
  },
  {
   "cell_type": "markdown",
   "id": "412695e1",
   "metadata": {},
   "source": [
    "## Q4. Launch the tracking server locally\n",
    "\n",
    "Now we want to manage the entire lifecycle of our ML model. In this step, you'll need to launch a tracking server. This way we will also have access to the model registry.\n",
    "\n",
    "Your task is to:\n",
    "\n",
    "    launch the tracking server on your local machine,\n",
    "    select a SQLite db for the backend store and a folder called artifacts for the artifacts store.\n",
    "\n",
    "You should keep the tracking server running to work on the next two exercises that use the server.\n",
    "\n",
    "In addition to backend-store-uri, what else do you need to pass to properly configure the server?\n",
    "\n",
    "    default-artifact-root"
   ]
  },
  {
   "cell_type": "markdown",
   "id": "0e92e8dd",
   "metadata": {},
   "source": [
    "## Q5. Tune model hyperparameters\n",
    "\n",
    "Now let's try to reduce the validation error by tuning the hyperparameters of the RandomForestRegressor using hyperopt. We have prepared the script hpo.py for this exercise.\n",
    "\n",
    "Your task is to modify the script hpo.py and make sure that the validation RMSE is logged to the tracking server for each run of the hyperparameter optimization (you will need to add a few lines of code to the objective function) and run the script without passing any parameters.\n",
    "\n",
    "After that, open UI and explore the runs from the experiment called random-forest-hyperopt to answer the question below.\n",
    "\n",
    "Note: Don't use autologging for this exercise.\n",
    "\n",
    "The idea is to just log the information that you need to answer the question below, including:\n",
    "\n",
    "    the list of hyperparameters that are passed to the objective function during the optimization,\n",
    "    the RMSE obtained on the validation set (February 2023 data).\n",
    "\n",
    "What's the best validation RMSE that you got?"
   ]
  },
  {
   "cell_type": "code",
   "execution_count": 4,
   "id": "b1895efa",
   "metadata": {},
   "outputs": [
    {
     "name": "stdout",
     "output_type": "stream",
     "text": [
      "\n",
      "  0%|          | 0/15 [00:00<?, ?trial/s, best loss=?]\n",
      "                                                      \n",
      "🏃 View run nyc-taxi-hyperopt-1 at: http://127.0.0.1:5000/#/experiments/1/runs/679b0834c8a546cca4e98617e7fd1666\n",
      "\n",
      "\n",
      "  0%|          | 0/15 [00:13<?, ?trial/s, best loss=?]\n",
      "                                                      \n",
      "🧪 View experiment at: http://127.0.0.1:5000/#/experiments/1\n",
      "\n",
      "\n",
      "  0%|          | 0/15 [00:13<?, ?trial/s, best loss=?]\n",
      "  7%|▋         | 1/15 [00:13<03:13, 13.86s/trial, best loss: 5.370086069268862]\n",
      "                                                                               \n",
      "🏃 View run nyc-taxi-hyperopt-1 at: http://127.0.0.1:5000/#/experiments/1/runs/a7b5d79d945f4316b1e1737084410b79\n",
      "\n",
      "\n",
      "  7%|▋         | 1/15 [00:14<03:13, 13.86s/trial, best loss: 5.370086069268862]\n",
      "                                                                               \n",
      "🧪 View experiment at: http://127.0.0.1:5000/#/experiments/1\n",
      "\n",
      "\n",
      "  7%|▋         | 1/15 [00:14<03:13, 13.86s/trial, best loss: 5.370086069268862]\n",
      " 13%|█▎        | 2/15 [00:14<01:22,  6.36s/trial, best loss: 5.370086069268862]\n",
      "                                                                               \n",
      "🏃 View run nyc-taxi-hyperopt-1 at: http://127.0.0.1:5000/#/experiments/1/runs/4739e6f7310f4a998407ee67a5fb48d7\n",
      "\n",
      "\n",
      " 13%|█▎        | 2/15 [00:16<01:22,  6.36s/trial, best loss: 5.370086069268862]\n",
      "                                                                               \n",
      "🧪 View experiment at: http://127.0.0.1:5000/#/experiments/1\n",
      "\n",
      "\n",
      " 13%|█▎        | 2/15 [00:16<01:22,  6.36s/trial, best loss: 5.370086069268862]\n",
      " 20%|██        | 3/15 [00:17<00:52,  4.39s/trial, best loss: 5.370086069268862]\n",
      "                                                                               \n",
      "🏃 View run nyc-taxi-hyperopt-1 at: http://127.0.0.1:5000/#/experiments/1/runs/3b75ec5f4bf549d0a5f716ea058bbb13\n",
      "\n",
      "\n",
      " 20%|██        | 3/15 [00:25<00:52,  4.39s/trial, best loss: 5.370086069268862]\n",
      "                                                                               \n",
      "🧪 View experiment at: http://127.0.0.1:5000/#/experiments/1\n",
      "\n",
      "\n",
      " 20%|██        | 3/15 [00:25<00:52,  4.39s/trial, best loss: 5.370086069268862]\n",
      " 27%|██▋       | 4/15 [00:25<01:06,  6.08s/trial, best loss: 5.357490752366866]\n",
      "                                                                               \n",
      "🏃 View run nyc-taxi-hyperopt-1 at: http://127.0.0.1:5000/#/experiments/1/runs/49fb8c307c9646bf85455ff0aedf909c\n",
      "\n",
      "\n",
      " 27%|██▋       | 4/15 [00:29<01:06,  6.08s/trial, best loss: 5.357490752366866]\n",
      "                                                                               \n",
      "🧪 View experiment at: http://127.0.0.1:5000/#/experiments/1\n",
      "\n",
      "\n",
      " 27%|██▋       | 4/15 [00:29<01:06,  6.08s/trial, best loss: 5.357490752366866]\n",
      " 33%|███▎      | 5/15 [00:29<00:54,  5.42s/trial, best loss: 5.357490752366866]\n",
      "                                                                               \n",
      "🏃 View run nyc-taxi-hyperopt-1 at: http://127.0.0.1:5000/#/experiments/1/runs/cfb83265d1724344a48ecf2592147831\n",
      "\n",
      "\n",
      " 33%|███▎      | 5/15 [00:44<00:54,  5.42s/trial, best loss: 5.357490752366866]\n",
      "                                                                               \n",
      "🧪 View experiment at: http://127.0.0.1:5000/#/experiments/1\n",
      "\n",
      "\n",
      " 33%|███▎      | 5/15 [00:44<00:54,  5.42s/trial, best loss: 5.357490752366866]\n",
      " 40%|████      | 6/15 [00:44<01:17,  8.60s/trial, best loss: 5.354695072530291]\n",
      "                                                                               \n",
      "🏃 View run nyc-taxi-hyperopt-1 at: http://127.0.0.1:5000/#/experiments/1/runs/7f0c4386dc5d47bf9be2222d070c1931\n",
      "\n",
      "\n",
      " 40%|████      | 6/15 [00:58<01:17,  8.60s/trial, best loss: 5.354695072530291]\n",
      "                                                                               \n",
      "🧪 View experiment at: http://127.0.0.1:5000/#/experiments/1\n",
      "\n",
      "\n",
      " 40%|████      | 6/15 [00:58<01:17,  8.60s/trial, best loss: 5.354695072530291]\n",
      " 47%|████▋     | 7/15 [00:58<01:22, 10.37s/trial, best loss: 5.354695072530291]\n",
      "                                                                               \n",
      "🏃 View run nyc-taxi-hyperopt-1 at: http://127.0.0.1:5000/#/experiments/1/runs/cd28c1b4024f4703b72ec21094ac4de7\n",
      "\n",
      "\n",
      " 47%|████▋     | 7/15 [01:00<01:22, 10.37s/trial, best loss: 5.354695072530291]\n",
      "                                                                               \n",
      "🧪 View experiment at: http://127.0.0.1:5000/#/experiments/1\n",
      "\n",
      "\n",
      " 47%|████▋     | 7/15 [01:00<01:22, 10.37s/trial, best loss: 5.354695072530291]\n",
      " 53%|█████▎    | 8/15 [01:00<00:53,  7.67s/trial, best loss: 5.354695072530291]\n",
      "                                                                               \n",
      "🏃 View run nyc-taxi-hyperopt-1 at: http://127.0.0.1:5000/#/experiments/1/runs/9266a9a94b5445a29a7251994d30cd65\n",
      "\n",
      "\n",
      " 53%|█████▎    | 8/15 [01:09<00:53,  7.67s/trial, best loss: 5.354695072530291]\n",
      "                                                                               \n",
      "🧪 View experiment at: http://127.0.0.1:5000/#/experiments/1\n",
      "\n",
      "\n",
      " 53%|█████▎    | 8/15 [01:09<00:53,  7.67s/trial, best loss: 5.354695072530291]\n",
      " 60%|██████    | 9/15 [01:09<00:48,  8.02s/trial, best loss: 5.354695072530291]\n",
      "                                                                               \n",
      "🏃 View run nyc-taxi-hyperopt-1 at: http://127.0.0.1:5000/#/experiments/1/runs/3162110af255478492f3398ee5ad1c53\n",
      "\n",
      "\n",
      " 60%|██████    | 9/15 [01:16<00:48,  8.02s/trial, best loss: 5.354695072530291]\n",
      "                                                                               \n",
      "🧪 View experiment at: http://127.0.0.1:5000/#/experiments/1\n",
      "\n",
      "\n",
      " 60%|██████    | 9/15 [01:16<00:48,  8.02s/trial, best loss: 5.354695072530291]\n",
      " 67%|██████▋   | 10/15 [01:16<00:39,  7.83s/trial, best loss: 5.354695072530291]\n",
      "                                                                                \n",
      "🏃 View run nyc-taxi-hyperopt-1 at: http://127.0.0.1:5000/#/experiments/1/runs/284483f35fdc40e6ab9ab200e3d64f86\n",
      "\n",
      "\n",
      " 67%|██████▋   | 10/15 [01:22<00:39,  7.83s/trial, best loss: 5.354695072530291]\n",
      "                                                                                \n",
      "🧪 View experiment at: http://127.0.0.1:5000/#/experiments/1\n",
      "\n",
      "\n",
      " 67%|██████▋   | 10/15 [01:22<00:39,  7.83s/trial, best loss: 5.354695072530291]\n",
      " 73%|███████▎  | 11/15 [01:22<00:29,  7.28s/trial, best loss: 5.335419588556921]\n",
      "                                                                                \n",
      "🏃 View run nyc-taxi-hyperopt-1 at: http://127.0.0.1:5000/#/experiments/1/runs/67f88c7450a442f8b5840f2c2f42f752\n",
      "\n",
      "\n",
      " 73%|███████▎  | 11/15 [01:27<00:29,  7.28s/trial, best loss: 5.335419588556921]\n",
      "                                                                                \n",
      "🧪 View experiment at: http://127.0.0.1:5000/#/experiments/1\n",
      "\n",
      "\n",
      " 73%|███████▎  | 11/15 [01:27<00:29,  7.28s/trial, best loss: 5.335419588556921]\n",
      " 80%|████████  | 12/15 [01:27<00:19,  6.48s/trial, best loss: 5.335419588556921]\n",
      "                                                                                \n",
      "🏃 View run nyc-taxi-hyperopt-1 at: http://127.0.0.1:5000/#/experiments/1/runs/ebbe9366d90c45ab9686b2ef1fbbbcdb\n",
      "\n",
      "\n",
      " 80%|████████  | 12/15 [01:30<00:19,  6.48s/trial, best loss: 5.335419588556921]\n",
      "                                                                                \n",
      "🧪 View experiment at: http://127.0.0.1:5000/#/experiments/1\n",
      "\n",
      "\n",
      " 80%|████████  | 12/15 [01:30<00:19,  6.48s/trial, best loss: 5.335419588556921]\n",
      " 87%|████████▋ | 13/15 [01:30<00:10,  5.35s/trial, best loss: 5.335419588556921]\n",
      "                                                                                \n",
      "🏃 View run nyc-taxi-hyperopt-1 at: http://127.0.0.1:5000/#/experiments/1/runs/d5beeec04e9b437786a806fd01ae8575\n",
      "\n",
      "\n",
      " 87%|████████▋ | 13/15 [01:35<00:10,  5.35s/trial, best loss: 5.335419588556921]\n",
      "                                                                                \n",
      "🧪 View experiment at: http://127.0.0.1:5000/#/experiments/1\n",
      "\n",
      "\n",
      " 87%|████████▋ | 13/15 [01:35<00:10,  5.35s/trial, best loss: 5.335419588556921]\n",
      " 93%|█████████▎| 14/15 [01:35<00:05,  5.41s/trial, best loss: 5.335419588556921]\n",
      "                                                                                \n",
      "🏃 View run nyc-taxi-hyperopt-1 at: http://127.0.0.1:5000/#/experiments/1/runs/e3cd6e4eb70f4adfad5c432dbecd5490\n",
      "\n",
      "\n",
      " 93%|█████████▎| 14/15 [01:44<00:05,  5.41s/trial, best loss: 5.335419588556921]\n",
      "                                                                                \n",
      "🧪 View experiment at: http://127.0.0.1:5000/#/experiments/1\n",
      "\n",
      "\n",
      " 93%|█████████▎| 14/15 [01:44<00:05,  5.41s/trial, best loss: 5.335419588556921]\n",
      "100%|██████████| 15/15 [01:44<00:00,  6.30s/trial, best loss: 5.335419588556921]\n",
      "100%|██████████| 15/15 [01:44<00:00,  6.94s/trial, best loss: 5.335419588556921]\n"
     ]
    },
    {
     "name": "stderr",
     "output_type": "stream",
     "text": [
      "2025/05/24 12:50:02 INFO mlflow.tracking.fluent: Experiment with name 'random-forest-hyperopt' does not exist. Creating a new experiment.\n"
     ]
    }
   ],
   "source": [
    "!python hpo.py --data_path ./output --num_trials 15"
   ]
  },
  {
   "attachments": {
    "image.png": {
     "image/png": "[encoded data removed]"
    }
   },
   "cell_type": "markdown",
   "id": "6ec7362a",
   "metadata": {},
   "source": [
    "![image.png](attachment:image.png)"
   ]
  },
  {
   "cell_type": "markdown",
   "id": "ffb0a6ee",
   "metadata": {},
   "source": [
    "## Q6. Promote the best model to the model registry\n",
    "\n",
    "The results from the hyperparameter optimization are quite good. So, we can assume that we are ready to test some of these models in production. In this exercise, you'll promote the best model to the model registry. We have prepared a script called register_model.py, which will check the results from the previous step and select the top 5 runs. After that, it will calculate the RMSE of those models on the test set (March 2023 data) and save the results to a new experiment called random-forest-best-models.\n",
    "\n",
    "Your task is to update the script register_model.py so that it selects the model with the lowest RMSE on the test set and registers it to the model registry.\n",
    "\n",
    "Tip 1: you can use the method search_runs from the MlflowClient to get the model with the lowest RMSE,\n",
    "\n",
    "Tip 2: to register the model you can use the method mlflow.register_model and you will need to pass the right model_uri in the form of a string that looks like this: \"runs:/<RUN_ID>/model\", and the name of the model (make sure to choose a good one!).\n",
    "\n",
    "What is the test RMSE of the best model?"
   ]
  },
  {
   "cell_type": "code",
   "execution_count": 5,
   "id": "d383cc09",
   "metadata": {},
   "outputs": [
    {
     "name": "stdout",
     "output_type": "stream",
     "text": [
      "🏃 View run skittish-calf-865 at: http://127.0.0.1:5000/#/experiments/2/runs/a715d80a0f5940eeae2be5c2ed8e8634\n",
      "🧪 View experiment at: http://127.0.0.1:5000/#/experiments/2\n",
      "🏃 View run clean-sloth-500 at: http://127.0.0.1:5000/#/experiments/2/runs/32f43f1dabe84d7797d6ec4985ba7f13\n",
      "🧪 View experiment at: http://127.0.0.1:5000/#/experiments/2\n",
      "🏃 View run invincible-moth-150 at: http://127.0.0.1:5000/#/experiments/2/runs/e1a677c84e884378a7b7d353340d1406\n",
      "🧪 View experiment at: http://127.0.0.1:5000/#/experiments/2\n",
      "🏃 View run awesome-stoat-207 at: http://127.0.0.1:5000/#/experiments/2/runs/af08bf6e828047a3aaf5353f50edfa5f\n",
      "🧪 View experiment at: http://127.0.0.1:5000/#/experiments/2\n",
      "🏃 View run gregarious-tern-622 at: http://127.0.0.1:5000/#/experiments/2/runs/65f6271ff413414da0115a311935a579\n",
      "🧪 View experiment at: http://127.0.0.1:5000/#/experiments/2\n"
     ]
    },
    {
     "name": "stderr",
     "output_type": "stream",
     "text": [
      "2025/05/24 12:52:10 INFO mlflow.tracking.fluent: Experiment with name 'random-forest-best-models' does not exist. Creating a new experiment.\n",
      "Successfully registered model 'best-random-forest-model'.\n",
      "2025/05/24 12:54:01 INFO mlflow.store.model_registry.abstract_store: Waiting up to 300 seconds for model version to finish creation. Model name: best-random-forest-model, version 1\n",
      "Created version '1' of model 'best-random-forest-model'.\n"
     ]
    }
   ],
   "source": [
    "!python register_model.py --data_path ./output --top_n 5"
   ]
  },
  {
   "attachments": {
    "image.png": {
     "image/png": "[encoded data removed]"
    }
   },
   "cell_type": "markdown",
   "id": "94604724",
   "metadata": {},
   "source": [
    "![image.png](attachment:image.png)"
   ]
  }
 ],
 "metadata": {
  "kernelspec": {
   "display_name": ".venv",
   "language": "python",
   "name": "python3"
  },
  "language_info": {
   "codemirror_mode": {
    "name": "ipython",
    "version": 3
   },
   "file_extension": ".py",
   "mimetype": "text/x-python",
   "name": "python",
   "nbconvert_exporter": "python",
   "pygments_lexer": "ipython3",
   "version": "3.10.5"
  }
 },
 "nbformat": 4,
 "nbformat_minor": 5
}
